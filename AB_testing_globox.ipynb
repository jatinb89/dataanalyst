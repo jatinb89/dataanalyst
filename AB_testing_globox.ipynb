{
 "cells": [
  {
   "cell_type": "markdown",
   "id": "c7bb51df",
   "metadata": {},
   "source": [
    "Globox is online e-commerce business. \n",
    "Globox is known among customers for boutique fashion item and high end decor product. but their food and beverage offering have grown tremendously in last few months. so the company want to awareness to this product category to increase revenue.\n",
    "\n",
    "The Growth team decides to run an A/B test that highlights key products in the food and drink category as a banner at the top of the website. a) The control group does not see the banner, and b) the test group sees\n",
    "\n",
    "group A : control group B: test or experiment\n",
    "\n",
    "Set up of A/B test: -it is being run on mobile website. -user is randomly assigned to control or test group\n",
    "\n",
    "if users do make purchase of the product on the same day or later is considered as \"conversion\"\n",
    "\n",
    "After online review I found that General E-commerce conversion rate on an average is 12.9 % thoughout the year (resource: unbounce's converion benchmark report compared to B2B and B2C landing page conversion rate across 16 industry)\n",
    "Based on that I would consider 13 % conversion rate as my Base line conversion rate. Team would be happy with the increase of 2 %, meaning that displaying banner at top of webiste is consider succsess if it raises the conversion rate to 15 %.\n",
    "Before Rolling out the change, team would be more confortable testing it on small size of customers to see how it performs and for that they decided to perform A/B test on subset of your user"
   ]
  },
  {
   "cell_type": "markdown",
   "id": "a71ce93c",
   "metadata": {},
   "source": [
    "# Designing of A/B Experiment "
   ]
  },
  {
   "cell_type": "markdown",
   "id": "ca69d5c0",
   "metadata": {},
   "source": [
    "# formulating the hypothesis:\n",
    "We don't know that Displaying Banner at top of website will lead to conversion or not. so we will choose the two tail test.\n",
    "we are doing two different significant test for selected variable. here so we define two hypothesis for each test variable. \n",
    "\n",
    "General Hypothesis is:\n",
    "H0 = There is no difference between control and experimental group\n",
    "H1 = There is difference between control and experiment group\n",
    "\n",
    "confidence level = 95 %\n",
    "\n",
    "significant level alpha = 0.05 \n",
    "(alpha value is the threshold that we set for this testing.) \n",
    "The probality of oberserved result(p-value) is lower than 0.05 then We reject Null hypothesis."
   ]
  },
  {
   "cell_type": "markdown",
   "id": "08b526fa",
   "metadata": {},
   "source": [
    "# Choosing Varibale\n",
    "Control - There is No banner at top of website test - Banner at top of website\n",
    "\n",
    "control and test group is our independent variable. (Note: there are many other varibles that can effect to our base conversion rate ex. Seasonality should take into account before calulating it)\n",
    "\n",
    "our dependant variable(what is trying to measure ) is: \n",
    "A) Average purchase amount (t-statistical test)\n",
    "B) Conversion rate. (binary variable) (Normal Distributuion (z) test) \n",
    "\n",
    "for conversion rate:\n",
    "0 - user did not buy any product during this experiment \n",
    "1 - user bought the product during this experiment"
   ]
  },
  {
   "cell_type": "markdown",
   "id": "bb6c29ed",
   "metadata": {},
   "source": [
    "# choosing the sample size\n",
    "it is important to note that we wont test the whole user base (our population) Number of user or people we decide to capture in each group will have effect on precision of our estimated conversion rate. The more sample, more precise the estimated conversion rate.(smaller the confidence interval) so higher chance to detect difference if present.\n",
    "\n",
    "Sample size is estimated through power analysis. \n",
    "Power of test is 1-B \n",
    "alpha = 0.05 \n",
    "effect size = how big of a difference we expect\n",
    "\n",
    "Base line conversion rate = 13 % \n",
    "Expected conversion rate = 15 % \n",
    "Diff = 2 % (mde- minimal detecttable effect)\n"
   ]
  },
  {
   "cell_type": "code",
   "execution_count": 2,
   "id": "58f26933",
   "metadata": {},
   "outputs": [],
   "source": [
    "# importing some useful packages for testing\n",
    "import pandas as pd\n",
    "import numpy as np\n",
    "import matplotlib as mpl\n",
    "import matplotlib.pyplot as plt\n",
    "import scipy.stats as stats\n",
    "import statsmodels.stats.api as sms\n",
    "import seaborn as sns\n",
    "from math import ceil\n",
    "from sympy import symbols, Eq"
   ]
  },
  {
   "cell_type": "code",
   "execution_count": 3,
   "id": "5e383bca",
   "metadata": {},
   "outputs": [
    {
     "name": "stdout",
     "output_type": "stream",
     "text": [
      "The required sample size is 4720 atleast for each variation or/ group\n"
     ]
    }
   ],
   "source": [
    "%matplotlib inline\n",
    "#some plot stying preferences\n",
    "plt.style.use('seaborn-whitegrid')\n",
    "\n",
    "# calculating effect size based on our expecte rate of conversion\n",
    "effect_size = sms.proportion_effectsize(0.13,0.15)\n",
    "\n",
    "# calculating required number of sample\n",
    "n_required = sms.NormalIndPower().solve_power(effect_size, power = 0.8, alpha = 0.05, ratio= 1)\n",
    "\n",
    "# rounding to the next role number\n",
    "n_required = ceil(n_required)\n",
    "\n",
    "print(f'The required sample size is {n_required} atleast for each variation or/ group')"
   ]
  },
  {
   "cell_type": "markdown",
   "id": "b1b82758",
   "metadata": {},
   "source": [
    "# Collecting and preparation of dataset"
   ]
  },
  {
   "cell_type": "code",
   "execution_count": 4,
   "id": "75cb0465",
   "metadata": {},
   "outputs": [],
   "source": [
    "df = pd.read_csv(\"data.csv\")"
   ]
  },
  {
   "cell_type": "code",
   "execution_count": 5,
   "id": "f2e354db",
   "metadata": {},
   "outputs": [
    {
     "data": {
      "text/html": [
       "<div>\n",
       "<style scoped>\n",
       "    .dataframe tbody tr th:only-of-type {\n",
       "        vertical-align: middle;\n",
       "    }\n",
       "\n",
       "    .dataframe tbody tr th {\n",
       "        vertical-align: top;\n",
       "    }\n",
       "\n",
       "    .dataframe thead th {\n",
       "        text-align: right;\n",
       "    }\n",
       "</style>\n",
       "<table border=\"1\" class=\"dataframe\">\n",
       "  <thead>\n",
       "    <tr style=\"text-align: right;\">\n",
       "      <th></th>\n",
       "      <th>userid</th>\n",
       "      <th>test_group</th>\n",
       "      <th>spent</th>\n",
       "    </tr>\n",
       "  </thead>\n",
       "  <tbody>\n",
       "    <tr>\n",
       "      <th>0</th>\n",
       "      <td>1014313</td>\n",
       "      <td>B</td>\n",
       "      <td>NaN</td>\n",
       "    </tr>\n",
       "    <tr>\n",
       "      <th>1</th>\n",
       "      <td>1029532</td>\n",
       "      <td>B</td>\n",
       "      <td>NaN</td>\n",
       "    </tr>\n",
       "    <tr>\n",
       "      <th>2</th>\n",
       "      <td>1018168</td>\n",
       "      <td>A</td>\n",
       "      <td>NaN</td>\n",
       "    </tr>\n",
       "    <tr>\n",
       "      <th>3</th>\n",
       "      <td>1029599</td>\n",
       "      <td>A</td>\n",
       "      <td>NaN</td>\n",
       "    </tr>\n",
       "    <tr>\n",
       "      <th>4</th>\n",
       "      <td>1025920</td>\n",
       "      <td>B</td>\n",
       "      <td>NaN</td>\n",
       "    </tr>\n",
       "  </tbody>\n",
       "</table>\n",
       "</div>"
      ],
      "text/plain": [
       "    userid test_group  spent\n",
       "0  1014313          B    NaN\n",
       "1  1029532          B    NaN\n",
       "2  1018168          A    NaN\n",
       "3  1029599          A    NaN\n",
       "4  1025920          B    NaN"
      ]
     },
     "execution_count": 5,
     "metadata": {},
     "output_type": "execute_result"
    }
   ],
   "source": [
    "df.head()"
   ]
  },
  {
   "cell_type": "code",
   "execution_count": 6,
   "id": "13f81bf6",
   "metadata": {},
   "outputs": [
    {
     "name": "stdout",
     "output_type": "stream",
     "text": [
      "<class 'pandas.core.frame.DataFrame'>\n",
      "RangeIndex: 48943 entries, 0 to 48942\n",
      "Data columns (total 3 columns):\n",
      " #   Column      Non-Null Count  Dtype  \n",
      "---  ------      --------------  -----  \n",
      " 0   userid      48943 non-null  int64  \n",
      " 1   test_group  48943 non-null  object \n",
      " 2   spent       2094 non-null   float64\n",
      "dtypes: float64(1), int64(1), object(1)\n",
      "memory usage: 1.1+ MB\n"
     ]
    }
   ],
   "source": [
    "df.info()"
   ]
  },
  {
   "cell_type": "code",
   "execution_count": 7,
   "id": "802147ed",
   "metadata": {},
   "outputs": [],
   "source": [
    "df = df.fillna(value = 0)"
   ]
  },
  {
   "cell_type": "code",
   "execution_count": 8,
   "id": "6de03f5c",
   "metadata": {},
   "outputs": [
    {
     "name": "stdout",
     "output_type": "stream",
     "text": [
      "<class 'pandas.core.frame.DataFrame'>\n",
      "RangeIndex: 48943 entries, 0 to 48942\n",
      "Data columns (total 3 columns):\n",
      " #   Column      Non-Null Count  Dtype  \n",
      "---  ------      --------------  -----  \n",
      " 0   userid      48943 non-null  int64  \n",
      " 1   test_group  48943 non-null  object \n",
      " 2   spent       48943 non-null  float64\n",
      "dtypes: float64(1), int64(1), object(1)\n",
      "memory usage: 1.1+ MB\n"
     ]
    }
   ],
   "source": [
    "df.info()"
   ]
  },
  {
   "cell_type": "code",
   "execution_count": 9,
   "id": "cf950f7e",
   "metadata": {},
   "outputs": [
    {
     "data": {
      "text/plain": [
       "Index(['userid', 'test_group', 'spent'], dtype='object')"
      ]
     },
     "execution_count": 9,
     "metadata": {},
     "output_type": "execute_result"
    }
   ],
   "source": [
    "df.columns"
   ]
  },
  {
   "cell_type": "code",
   "execution_count": 10,
   "id": "c2fc6671",
   "metadata": {},
   "outputs": [],
   "source": [
    "df['converted'] = np.where(df['spent'] > 0, 1,0)"
   ]
  },
  {
   "cell_type": "code",
   "execution_count": 11,
   "id": "a3b50849",
   "metadata": {},
   "outputs": [
    {
     "data": {
      "text/html": [
       "<div>\n",
       "<style scoped>\n",
       "    .dataframe tbody tr th:only-of-type {\n",
       "        vertical-align: middle;\n",
       "    }\n",
       "\n",
       "    .dataframe tbody tr th {\n",
       "        vertical-align: top;\n",
       "    }\n",
       "\n",
       "    .dataframe thead th {\n",
       "        text-align: right;\n",
       "    }\n",
       "</style>\n",
       "<table border=\"1\" class=\"dataframe\">\n",
       "  <thead>\n",
       "    <tr style=\"text-align: right;\">\n",
       "      <th></th>\n",
       "      <th>userid</th>\n",
       "      <th>test_group</th>\n",
       "      <th>spent</th>\n",
       "      <th>converted</th>\n",
       "    </tr>\n",
       "  </thead>\n",
       "  <tbody>\n",
       "    <tr>\n",
       "      <th>0</th>\n",
       "      <td>1014313</td>\n",
       "      <td>B</td>\n",
       "      <td>0.0</td>\n",
       "      <td>0</td>\n",
       "    </tr>\n",
       "    <tr>\n",
       "      <th>1</th>\n",
       "      <td>1029532</td>\n",
       "      <td>B</td>\n",
       "      <td>0.0</td>\n",
       "      <td>0</td>\n",
       "    </tr>\n",
       "    <tr>\n",
       "      <th>2</th>\n",
       "      <td>1018168</td>\n",
       "      <td>A</td>\n",
       "      <td>0.0</td>\n",
       "      <td>0</td>\n",
       "    </tr>\n",
       "    <tr>\n",
       "      <th>3</th>\n",
       "      <td>1029599</td>\n",
       "      <td>A</td>\n",
       "      <td>0.0</td>\n",
       "      <td>0</td>\n",
       "    </tr>\n",
       "    <tr>\n",
       "      <th>4</th>\n",
       "      <td>1025920</td>\n",
       "      <td>B</td>\n",
       "      <td>0.0</td>\n",
       "      <td>0</td>\n",
       "    </tr>\n",
       "  </tbody>\n",
       "</table>\n",
       "</div>"
      ],
      "text/plain": [
       "    userid test_group  spent  converted\n",
       "0  1014313          B    0.0          0\n",
       "1  1029532          B    0.0          0\n",
       "2  1018168          A    0.0          0\n",
       "3  1029599          A    0.0          0\n",
       "4  1025920          B    0.0          0"
      ]
     },
     "execution_count": 11,
     "metadata": {},
     "output_type": "execute_result"
    }
   ],
   "source": [
    "df.head()"
   ]
  },
  {
   "cell_type": "code",
   "execution_count": 12,
   "id": "12cf8ff3",
   "metadata": {},
   "outputs": [
    {
     "data": {
      "text/html": [
       "<div>\n",
       "<style scoped>\n",
       "    .dataframe tbody tr th:only-of-type {\n",
       "        vertical-align: middle;\n",
       "    }\n",
       "\n",
       "    .dataframe tbody tr th {\n",
       "        vertical-align: top;\n",
       "    }\n",
       "\n",
       "    .dataframe thead th {\n",
       "        text-align: right;\n",
       "    }\n",
       "</style>\n",
       "<table border=\"1\" class=\"dataframe\">\n",
       "  <thead>\n",
       "    <tr style=\"text-align: right;\">\n",
       "      <th></th>\n",
       "      <th>userid</th>\n",
       "      <th>spent</th>\n",
       "      <th>converted</th>\n",
       "    </tr>\n",
       "    <tr>\n",
       "      <th>test_group</th>\n",
       "      <th></th>\n",
       "      <th></th>\n",
       "      <th></th>\n",
       "    </tr>\n",
       "  </thead>\n",
       "  <tbody>\n",
       "    <tr>\n",
       "      <th>A</th>\n",
       "      <td>24343</td>\n",
       "      <td>24343</td>\n",
       "      <td>24343</td>\n",
       "    </tr>\n",
       "    <tr>\n",
       "      <th>B</th>\n",
       "      <td>24600</td>\n",
       "      <td>24600</td>\n",
       "      <td>24600</td>\n",
       "    </tr>\n",
       "  </tbody>\n",
       "</table>\n",
       "</div>"
      ],
      "text/plain": [
       "            userid  spent  converted\n",
       "test_group                          \n",
       "A            24343  24343      24343\n",
       "B            24600  24600      24600"
      ]
     },
     "execution_count": 12,
     "metadata": {},
     "output_type": "execute_result"
    }
   ],
   "source": [
    "# based on Sample size calculation, we do sampling as per size calculation for each group\n",
    "# in this case, we consider all given data is our sample\n",
    "ab_test = df\n",
    "ab_test.groupby('test_group').count()"
   ]
  },
  {
   "cell_type": "markdown",
   "id": "fe752102",
   "metadata": {},
   "source": [
    "# Checking inference condition for sample\n",
    "Random condition:\n",
    "A/B test is carried out on randomly selected users and they were assigned control and experiment group randomly.\n",
    "\n",
    "Normal condition:\n",
    "Sample size > 30 so we can say it is normally distributed.\n",
    "\n",
    "Independent condition:\n",
    "Sampling is done with replacement so we can say, it is independent sample.\n",
    "\n"
   ]
  },
  {
   "cell_type": "markdown",
   "id": "f0782ba4",
   "metadata": {},
   "source": [
    "A) Checking difference in average amount spent per user between control and experiment group(t-test)\n",
    "our sample met all inferece condition, so we will do t-statistical test to check significance diifference in avearge amount spent betweeen two groups.\n",
    "confidence level is 95%\n",
    "significal level(assumed) alpha = 0.05\n",
    "\n",
    "We assume:\n",
    "Null hypothesis : H0 = There is no significant difference between mean of purchase amount between control and experiment group\n",
    "                        u0 - u1 =0\n",
    "Alternative Hypothesis: H1 = There is difference between mean of purchase amount between control and experiment group\n",
    "                           u0 is not equal to u1"
   ]
  },
  {
   "cell_type": "code",
   "execution_count": 13,
   "id": "b069c2b2",
   "metadata": {},
   "outputs": [
    {
     "data": {
      "text/html": [
       "<div>\n",
       "<style scoped>\n",
       "    .dataframe tbody tr th:only-of-type {\n",
       "        vertical-align: middle;\n",
       "    }\n",
       "\n",
       "    .dataframe tbody tr th {\n",
       "        vertical-align: top;\n",
       "    }\n",
       "\n",
       "    .dataframe thead th {\n",
       "        text-align: right;\n",
       "    }\n",
       "</style>\n",
       "<table border=\"1\" class=\"dataframe\">\n",
       "  <thead>\n",
       "    <tr style=\"text-align: right;\">\n",
       "      <th></th>\n",
       "      <th>average_spent</th>\n",
       "      <th>standard_deviation</th>\n",
       "      <th>standard_error</th>\n",
       "    </tr>\n",
       "    <tr>\n",
       "      <th>test_group</th>\n",
       "      <th></th>\n",
       "      <th></th>\n",
       "      <th></th>\n",
       "    </tr>\n",
       "  </thead>\n",
       "  <tbody>\n",
       "    <tr>\n",
       "      <th>A</th>\n",
       "      <td>3.374518</td>\n",
       "      <td>25.936391</td>\n",
       "      <td>0.166235</td>\n",
       "    </tr>\n",
       "    <tr>\n",
       "      <th>B</th>\n",
       "      <td>3.390867</td>\n",
       "      <td>25.414110</td>\n",
       "      <td>0.162034</td>\n",
       "    </tr>\n",
       "  </tbody>\n",
       "</table>\n",
       "</div>"
      ],
      "text/plain": [
       "            average_spent  standard_deviation  standard_error\n",
       "test_group                                                   \n",
       "A                3.374518           25.936391        0.166235\n",
       "B                3.390867           25.414110        0.162034"
      ]
     },
     "execution_count": 13,
     "metadata": {},
     "output_type": "execute_result"
    }
   ],
   "source": [
    "# Visulization of Results for two group:\n",
    "average_spent = ab_test.groupby('test_group')['spent']\n",
    "\n",
    "std_s = lambda x: np.std(x, ddof=1)\n",
    "se_s = lambda x: stats.sem(x, ddof=1)\n",
    "\n",
    "average_spent = average_spent.agg([np.mean, std_s, se_s])\n",
    "average_spent.columns = [\"average_spent\",\"standard_deviation\",\"standard_error\"]\n",
    "average_spent"
   ]
  },
  {
   "cell_type": "code",
   "execution_count": 28,
   "id": "f5a9bee5",
   "metadata": {},
   "outputs": [
    {
     "data": {
      "image/png": "[encoded data removed]",
      "text/plain": [
       "<Figure size 600x400 with 1 Axes>"
      ]
     },
     "metadata": {},
     "output_type": "display_data"
    }
   ],
   "source": [
    "# plotting makes easy to grasp result\n",
    "plt.figure(figsize=(6,4))\n",
    "\n",
    "sns.barplot(x=ab_test['test_group'], y=ab_test['spent'], ci=False)\n",
    "\n",
    "plt.ylim(0,4.0)\n",
    "plt.title('Avearge spent per user by group', pad=20)\n",
    "plt.xlabel('test_group', labelpad=15)\n",
    "plt.ylabel(\"Avearge spent ($)\", labelpad=15)\n",
    "plt.yticks()\n",
    "plt.savefig(\"average_spent_per_user_by_group.jpg\")\n",
    "plt.show()"
   ]
  },
  {
   "cell_type": "code",
   "execution_count": 15,
   "id": "64eb386f",
   "metadata": {},
   "outputs": [
    {
     "name": "stdout",
     "output_type": "stream",
     "text": [
      "T-statistics for difference in avearge spent per user between two group is: 0.07\n"
     ]
    }
   ],
   "source": [
    "# performing Hypothesis test and doing statistical calculation\n",
    "# Calculating t-statistics for difference in avearge amount spent in user:\n",
    "control = ab_test.loc[ab_test[\"test_group\"] == \"A\",\"spent\"].to_numpy()\n",
    "exp = ab_test.loc[ab_test[\"test_group\"] == \"B\",\"spent\"].to_numpy()\n",
    "\n",
    "control_mean, exp_mean = np.mean(control),np.mean(exp)\n",
    "n_control, n_exp = len(control),len(exp)\n",
    "control_var, exp_var = np.var(control, ddof=1),np.var(exp, ddof=1)\n",
    "\n",
    "# pooled variance for both group\n",
    "pooled_var = (((n_control-1)*control_var)+((n_exp -1)*exp_var))/(n_control+n_exp-2)\n",
    "\n",
    "# std error:\n",
    "std_error = np.sqrt(pooled_var * (1/n_control + 1/n_exp))\n",
    "\n",
    "# calculating t statistics\n",
    "\n",
    "t = round(abs(exp_mean - control_mean)/std_error,3)\n",
    "print(\"T-statistics for difference in avearge spent per user between two group is: \"+ str(t))"
   ]
  },
  {
   "cell_type": "code",
   "execution_count": 30,
   "id": "8e0d5539",
   "metadata": {},
   "outputs": [
    {
     "name": "stdout",
     "output_type": "stream",
     "text": [
      "T-critical Value at 95 % is: 1.96\n"
     ]
    }
   ],
   "source": [
    "#calculating critical t value for two tailed sample\n",
    "t_critical = round(stats.t.ppf(q=0.975,df=48943),2)\n",
    "t_critical\n",
    "print(\"T-critical Value at 95 % is: \" + str(t_critical))"
   ]
  },
  {
   "cell_type": "code",
   "execution_count": 31,
   "id": "aa5bdc02",
   "metadata": {},
   "outputs": [
    {
     "name": "stdout",
     "output_type": "stream",
     "text": [
      "p - value for difference in mean of average spent per user is: 0.944\n"
     ]
    }
   ],
   "source": [
    "# calculating p value for two tailed sample\n",
    "p_value = r=round(2 * (1-stats.t.cdf(x=t,df=48943)),3)\n",
    "p_value\n",
    "print(\"p - value for difference in mean of average spent per user is: \" + str(p_value))"
   ]
  },
  {
   "cell_type": "code",
   "execution_count": 18,
   "id": "1956085a",
   "metadata": {},
   "outputs": [
    {
     "name": "stdout",
     "output_type": "stream",
     "text": [
      "95 % confidence interval for control group is : 3.049 to 3.7\n"
     ]
    }
   ],
   "source": [
    "# 95 % confidence interval for control group\n",
    "conf_control = t_critical * np.std(control)/np.sqrt(n_control)\n",
    "lower_limit = round(control_mean - conf_control,3)\n",
    "upper_limit = round(control_mean + conf_control,3)\n",
    "print(\"95 % confidence interval for control group is : \" + str(lower_limit) + \" to \" + str(upper_limit))"
   ]
  },
  {
   "cell_type": "code",
   "execution_count": 19,
   "id": "797b4c80",
   "metadata": {},
   "outputs": [
    {
     "name": "stdout",
     "output_type": "stream",
     "text": [
      "95 % confidence interval for experimental group is : 3.073 to 3.708\n"
     ]
    }
   ],
   "source": [
    "# 95 % confidence interval for Experimental Group \n",
    "conf_exp = t_critical * np.std(exp)/np.sqrt(n_exp)\n",
    "lo_limit = round(exp_mean - conf_exp, 3)\n",
    "up_limit = round(exp_mean + conf_exp,3)\n",
    "print(\"95 % confidence interval for experimental group is : \" + str(lo_limit) + \" to \" + str(up_limit))"
   ]
  },
  {
   "cell_type": "code",
   "execution_count": 20,
   "id": "ef757959",
   "metadata": {},
   "outputs": [],
   "source": [
    "# 95 % confidence interval for difference in mean of average spent per user between two groups\n"
   ]
  },
  {
   "cell_type": "markdown",
   "id": "5087ecbb",
   "metadata": {},
   "source": [
    "# Evaluation of our test Results\n",
    "Assumed Alpha Value is: 0.05\n",
    "The probability (p-value) is 0.944 which is higher than the alpha value.\n",
    "so that we fail to reject our Null Hypothesis that there is no difference in average amount spent per user between cotrol and experiment group."
   ]
  },
  {
   "cell_type": "markdown",
   "id": "36e30fcd",
   "metadata": {},
   "source": [
    "B) for conversion_rate (z-test)\n",
    "\n",
    "Null Hypothesis:\n",
    "H0 = There is no difference in user conversion rate between control and experimental group\n",
    "        p = p0\n",
    "H1 = There is difference in user conversion rate between control and experimental group\n",
    "    p =/ p0\n"
   ]
  },
  {
   "cell_type": "code",
   "execution_count": 21,
   "id": "88e3f4c0",
   "metadata": {},
   "outputs": [
    {
     "data": {
      "text/html": [
       "<style type=\"text/css\">\n",
       "</style>\n",
       "<table id=\"T_a807d\">\n",
       "  <thead>\n",
       "    <tr>\n",
       "      <th class=\"blank level0\" >&nbsp;</th>\n",
       "      <th id=\"T_a807d_level0_col0\" class=\"col_heading level0 col0\" >conversion_rate</th>\n",
       "      <th id=\"T_a807d_level0_col1\" class=\"col_heading level0 col1\" >std_deviation</th>\n",
       "      <th id=\"T_a807d_level0_col2\" class=\"col_heading level0 col2\" >std_error</th>\n",
       "    </tr>\n",
       "    <tr>\n",
       "      <th class=\"index_name level0\" >test_group</th>\n",
       "      <th class=\"blank col0\" >&nbsp;</th>\n",
       "      <th class=\"blank col1\" >&nbsp;</th>\n",
       "      <th class=\"blank col2\" >&nbsp;</th>\n",
       "    </tr>\n",
       "  </thead>\n",
       "  <tbody>\n",
       "    <tr>\n",
       "      <th id=\"T_a807d_level0_row0\" class=\"row_heading level0 row0\" >A</th>\n",
       "      <td id=\"T_a807d_row0_col0\" class=\"data row0 col0\" >0.0392</td>\n",
       "      <td id=\"T_a807d_row0_col1\" class=\"data row0 col1\" >0.1941</td>\n",
       "      <td id=\"T_a807d_row0_col2\" class=\"data row0 col2\" >0.0012</td>\n",
       "    </tr>\n",
       "    <tr>\n",
       "      <th id=\"T_a807d_level0_row1\" class=\"row_heading level0 row1\" >B</th>\n",
       "      <td id=\"T_a807d_row1_col0\" class=\"data row1 col0\" >0.0463</td>\n",
       "      <td id=\"T_a807d_row1_col1\" class=\"data row1 col1\" >0.2101</td>\n",
       "      <td id=\"T_a807d_row1_col2\" class=\"data row1 col2\" >0.0013</td>\n",
       "    </tr>\n",
       "  </tbody>\n",
       "</table>\n"
      ],
      "text/plain": [
       "<pandas.io.formats.style.Styler at 0x23107ba3070>"
      ]
     },
     "execution_count": 21,
     "metadata": {},
     "output_type": "execute_result"
    }
   ],
   "source": [
    "# calculating converion rate for both groups\n",
    "conversion_rates = ab_test.groupby('test_group')['converted']\n",
    "\n",
    "std_p = lambda x: np.std(x, ddof=0)              # Std. deviation of the proportion\n",
    "se_p = lambda x: stats.sem(x, ddof=0)            # Std. error of the proportion (std / sqrt(n))\n",
    "\n",
    "conversion_rates = conversion_rates.agg([np.mean, std_p, se_p])\n",
    "conversion_rates.columns = ['conversion_rate', 'std_deviation', 'std_error']\n",
    "\n",
    "\n",
    "conversion_rates.style.format('{:.4f}')"
   ]
  },
  {
   "cell_type": "code",
   "execution_count": 22,
   "id": "757f2e03",
   "metadata": {},
   "outputs": [
    {
     "name": "stdout",
     "output_type": "stream",
     "text": [
      "conversion rate for control group is: 3.92 %\n",
      "conversion rate for experimental group is: 4.63 %\n"
     ]
    }
   ],
   "source": [
    "conv_rate_control_pct = round(conversion_rates[\"conversion_rate\"][0] * 100, 2)\n",
    "conv_rate_exp_pct = round(conversion_rates[\"conversion_rate\"][1] * 100, 2)\n",
    "print(\"conversion rate for control group is: \" + str(conv_rate_control_pct) + \" %\")\n",
    "print(\"conversion rate for experimental group is: \" + str(conv_rate_exp_pct) + \" %\")"
   ]
  },
  {
   "cell_type": "code",
   "execution_count": 29,
   "id": "18f3e821",
   "metadata": {},
   "outputs": [
    {
     "data": {
      "image/png": "[encoded data removed]",
      "text/plain": [
       "<Figure size 800x600 with 1 Axes>"
      ]
     },
     "metadata": {},
     "output_type": "display_data"
    }
   ],
   "source": [
    "# plotting data in figure\n",
    "plt.figure(figsize=(8,6))\n",
    "\n",
    "sns.barplot(x=ab_test['test_group'], y=ab_test['converted'], ci=False)\n",
    "\n",
    "plt.ylim(0, 0.07)\n",
    "plt.title('Conversion rate by test group', pad=20)\n",
    "plt.xlabel('test_group', labelpad=15)\n",
    "plt.ylabel('Converted (proportion)', labelpad=15)\n",
    "plt.savefig(\"conversion_rate_by_group.jpg\")\n",
    "plt.show()"
   ]
  },
  {
   "cell_type": "code",
   "execution_count": 24,
   "id": "fb465f48",
   "metadata": {},
   "outputs": [
    {
     "name": "stdout",
     "output_type": "stream",
     "text": [
      "z statistic: -3.86\n",
      "p-value: 0.0001\n",
      "ci 95% for control group: [0.0368, 0.0417]\n",
      "ci 95% for experiment group: [0.0437, 0.0489]\n"
     ]
    }
   ],
   "source": [
    "# Calculating Z statistics for hypothesis testing (Normal distribution)\n",
    "from statsmodels.stats.proportion import proportions_ztest, proportion_confint\n",
    "\n",
    "control_result = ab_test[ab_test['test_group'] == 'A']['converted']\n",
    "exp_result = ab_test[ab_test['test_group'] == 'B']['converted']\n",
    "n_con = control_result.count()\n",
    "n_exp = exp_result.count()\n",
    "successes = [control_result.sum(), exp_result.sum()]\n",
    "nobs = [n_con, n_exp]\n",
    "\n",
    "z_stat, pval = proportions_ztest(successes, nobs=nobs)\n",
    "(lower_con, lower_exp), (upper_con, upper_exp) = proportion_confint(successes, nobs=nobs, alpha=0.05)\n",
    "\n",
    "print(f'z statistic: {z_stat:.2f}')\n",
    "print(f'p-value: {pval:.4f}')\n",
    "print(f'ci 95% for control group: [{lower_con:.4f}, {upper_con:.4f}]')\n",
    "print(f'ci 95% for experiment group: [{lower_exp:.4f}, {upper_exp:.4f}]')"
   ]
  },
  {
   "cell_type": "code",
   "execution_count": 25,
   "id": "318b41df",
   "metadata": {},
   "outputs": [
    {
     "name": "stdout",
     "output_type": "stream",
     "text": [
      "Critical Z value is: 1.96\n"
     ]
    }
   ],
   "source": [
    "#calculating critical z value:\n",
    "z_critical = round(stats.norm.ppf(0.975),2)\n",
    "print(\"Critical Z value is: \" + str(z_critical))"
   ]
  },
  {
   "cell_type": "code",
   "execution_count": 26,
   "id": "04f66827",
   "metadata": {},
   "outputs": [],
   "source": [
    "# 95 % confidence interval of mean of difference of conversion rate between two group\n"
   ]
  },
  {
   "cell_type": "code",
   "execution_count": null,
   "id": "1e602452",
   "metadata": {},
   "outputs": [],
   "source": []
  },
  {
   "cell_type": "code",
   "execution_count": null,
   "id": "1c8dc4e0",
   "metadata": {},
   "outputs": [],
   "source": []
  },
  {
   "cell_type": "code",
   "execution_count": null,
   "id": "e43269bf",
   "metadata": {},
   "outputs": [],
   "source": []
  },
  {
   "cell_type": "code",
   "execution_count": null,
   "id": "e14e5078",
   "metadata": {},
   "outputs": [],
   "source": []
  },
  {
   "cell_type": "code",
   "execution_count": null,
   "id": "112677ce",
   "metadata": {},
   "outputs": [],
   "source": []
  },
  {
   "cell_type": "code",
   "execution_count": null,
   "id": "7c4b4d4b",
   "metadata": {},
   "outputs": [],
   "source": []
  },
  {
   "cell_type": "code",
   "execution_count": null,
   "id": "a4a27bae",
   "metadata": {},
   "outputs": [],
   "source": []
  },
  {
   "cell_type": "code",
   "execution_count": null,
   "id": "9525bd19",
   "metadata": {},
   "outputs": [],
   "source": []
  },
  {
   "cell_type": "code",
   "execution_count": null,
   "id": "bbe6ec65",
   "metadata": {},
   "outputs": [],
   "source": []
  },
  {
   "cell_type": "code",
   "execution_count": null,
   "id": "db08e428",
   "metadata": {},
   "outputs": [],
   "source": []
  },
  {
   "cell_type": "code",
   "execution_count": null,
   "id": "81a70404",
   "metadata": {},
   "outputs": [],
   "source": []
  },
  {
   "cell_type": "code",
   "execution_count": null,
   "id": "16cc0999",
   "metadata": {},
   "outputs": [],
   "source": []
  },
  {
   "cell_type": "code",
   "execution_count": null,
   "id": "89f2f18b",
   "metadata": {},
   "outputs": [],
   "source": []
  },
  {
   "cell_type": "code",
   "execution_count": null,
   "id": "aea00226",
   "metadata": {},
   "outputs": [],
   "source": []
  },
  {
   "cell_type": "code",
   "execution_count": null,
   "id": "c9eb383a",
   "metadata": {},
   "outputs": [],
   "source": []
  },
  {
   "cell_type": "code",
   "execution_count": null,
   "id": "365332d7",
   "metadata": {},
   "outputs": [],
   "source": []
  },
  {
   "cell_type": "code",
   "execution_count": null,
   "id": "c46b238f",
   "metadata": {},
   "outputs": [],
   "source": []
  },
  {
   "cell_type": "code",
   "execution_count": null,
   "id": "7a0bbc2f",
   "metadata": {},
   "outputs": [],
   "source": []
  },
  {
   "cell_type": "code",
   "execution_count": null,
   "id": "ba1c455b",
   "metadata": {},
   "outputs": [],
   "source": []
  },
  {
   "cell_type": "code",
   "execution_count": null,
   "id": "24ec1feb",
   "metadata": {},
   "outputs": [],
   "source": []
  },
  {
   "cell_type": "code",
   "execution_count": null,
   "id": "4c424781",
   "metadata": {},
   "outputs": [],
   "source": []
  },
  {
   "cell_type": "code",
   "execution_count": null,
   "id": "21820a93",
   "metadata": {},
   "outputs": [],
   "source": []
  },
  {
   "cell_type": "code",
   "execution_count": null,
   "id": "ed4915d0",
   "metadata": {},
   "outputs": [],
   "source": []
  },
  {
   "cell_type": "code",
   "execution_count": null,
   "id": "4cd1075b",
   "metadata": {},
   "outputs": [],
   "source": []
  },
  {
   "cell_type": "code",
   "execution_count": null,
   "id": "99b68b97",
   "metadata": {},
   "outputs": [],
   "source": []
  },
  {
   "cell_type": "code",
   "execution_count": null,
   "id": "6f826a31",
   "metadata": {},
   "outputs": [],
   "source": []
  }
 ],
 "metadata": {
  "kernelspec": {
   "display_name": "Python 3 (ipykernel)",
   "language": "python",
   "name": "python3"
  },
  "language_info": {
   "codemirror_mode": {
    "name": "ipython",
    "version": 3
   },
   "file_extension": ".py",
   "mimetype": "text/x-python",
   "name": "python",
   "nbconvert_exporter": "python",
   "pygments_lexer": "ipython3",
   "version": "3.9.13"
  }
 },
 "nbformat": 4,
 "nbformat_minor": 5
}
